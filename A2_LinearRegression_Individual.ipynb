{
 "cells": [
  {
   "cell_type": "code",
   "execution_count": 1,
   "metadata": {},
   "outputs": [],
   "source": [
    "# Homework Assignement Topic: Linear Regression\n",
    "\n",
    "### In this assignment a data set of a collection of cars, (mtcars) will be used to explore the relationship between a set of variables and miles per gallon (MPG) and will attempt to create a linear regression model of fuel economy (mpg) for providing a informed decision on which car to buy.\n",
    "\n",
    "#### Dataset: The data was extracted from the 1974 Motor Trend US magazine, and comprises fuel consumption and 10 aspects of automobile design and performance for 32 automobiles (1973--74 models). You will be provided the data set along with this file. \n",
    "\n",
    "# Student Name: Man Nguyen Duc"
   ]
  },
  {
   "cell_type": "raw",
   "metadata": {},
   "source": [
    "mpg \tMiles/(US) gallon\n",
    "cyl \tNumber of cylinders\n",
    "disp\tDisplacement (cu.in.)\n",
    "hp\t    Gross horsepower\n",
    "drat\tRear axle ratio\n",
    "wt\t    Weight (1000 lbs)\n",
    "qsec\t1/4 mile time\n",
    "vs\t    Engine (0 = V-shaped, 1 = straight)\n",
    "am\t    Transmission (0 = automatic, 1 = manual)\n",
    "gear\tNumber of forward gears\n",
    "carb\tNumber of carburetors"
   ]
  },
  {
   "cell_type": "raw",
   "metadata": {},
   "source": [
    "#### Loading the Required Modules & the Dataset"
   ]
  },
  {
   "cell_type": "code",
   "execution_count": 2,
   "metadata": {},
   "outputs": [],
   "source": [
    "import pandas as pd\n",
    "import numpy as np\n",
    "import seaborn as sns\n",
    "import matplotlib.pyplot as plt"
   ]
  },
  {
   "cell_type": "code",
   "execution_count": 3,
   "metadata": {},
   "outputs": [],
   "source": [
    "from IPython.core.interactiveshell import InteractiveShell\n",
    "InteractiveShell.ast_node_interactivity='all'"
   ]
  },
  {
   "cell_type": "code",
   "execution_count": 5,
   "metadata": {},
   "outputs": [],
   "source": [
    "data= pd.read_csv('mtcars.csv')"
   ]
  },
  {
   "cell_type": "code",
   "execution_count": 6,
   "metadata": {},
   "outputs": [
    {
     "name": "stdout",
     "output_type": "stream",
     "text": [
      "<class 'pandas.core.frame.DataFrame'>\n",
      "RangeIndex: 32 entries, 0 to 31\n",
      "Data columns (total 12 columns):\n",
      " #   Column  Non-Null Count  Dtype  \n",
      "---  ------  --------------  -----  \n",
      " 0   model   32 non-null     object \n",
      " 1   mpg     32 non-null     float64\n",
      " 2   cyl     32 non-null     int64  \n",
      " 3   disp    32 non-null     float64\n",
      " 4   hp      32 non-null     int64  \n",
      " 5   drat    32 non-null     float64\n",
      " 6   wt      32 non-null     float64\n",
      " 7   qsec    32 non-null     float64\n",
      " 8   vs      32 non-null     int64  \n",
      " 9   am      32 non-null     int64  \n",
      " 10  gear    32 non-null     int64  \n",
      " 11  carb    32 non-null     int64  \n",
      "dtypes: float64(5), int64(6), object(1)\n",
      "memory usage: 3.1+ KB\n"
     ]
    }
   ],
   "source": [
    "data.info()"
   ]
  },
  {
   "cell_type": "code",
   "execution_count": 7,
   "metadata": {},
   "outputs": [
    {
     "data": {
      "text/html": [
       "<div>\n",
       "<style scoped>\n",
       "    .dataframe tbody tr th:only-of-type {\n",
       "        vertical-align: middle;\n",
       "    }\n",
       "\n",
       "    .dataframe tbody tr th {\n",
       "        vertical-align: top;\n",
       "    }\n",
       "\n",
       "    .dataframe thead th {\n",
       "        text-align: right;\n",
       "    }\n",
       "</style>\n",
       "<table border=\"1\" class=\"dataframe\">\n",
       "  <thead>\n",
       "    <tr style=\"text-align: right;\">\n",
       "      <th></th>\n",
       "      <th>mpg</th>\n",
       "      <th>cyl</th>\n",
       "      <th>disp</th>\n",
       "      <th>hp</th>\n",
       "      <th>drat</th>\n",
       "      <th>wt</th>\n",
       "      <th>qsec</th>\n",
       "      <th>vs</th>\n",
       "      <th>am</th>\n",
       "      <th>gear</th>\n",
       "      <th>carb</th>\n",
       "    </tr>\n",
       "  </thead>\n",
       "  <tbody>\n",
       "    <tr>\n",
       "      <th>count</th>\n",
       "      <td>32.000000</td>\n",
       "      <td>32.000000</td>\n",
       "      <td>32.000000</td>\n",
       "      <td>32.000000</td>\n",
       "      <td>32.000000</td>\n",
       "      <td>32.000000</td>\n",
       "      <td>32.000000</td>\n",
       "      <td>32.000000</td>\n",
       "      <td>32.000000</td>\n",
       "      <td>32.000000</td>\n",
       "      <td>32.0000</td>\n",
       "    </tr>\n",
       "    <tr>\n",
       "      <th>mean</th>\n",
       "      <td>20.090625</td>\n",
       "      <td>6.187500</td>\n",
       "      <td>230.721875</td>\n",
       "      <td>146.687500</td>\n",
       "      <td>3.596563</td>\n",
       "      <td>3.217250</td>\n",
       "      <td>17.848750</td>\n",
       "      <td>0.437500</td>\n",
       "      <td>0.406250</td>\n",
       "      <td>3.687500</td>\n",
       "      <td>2.8125</td>\n",
       "    </tr>\n",
       "    <tr>\n",
       "      <th>std</th>\n",
       "      <td>6.026948</td>\n",
       "      <td>1.785922</td>\n",
       "      <td>123.938694</td>\n",
       "      <td>68.562868</td>\n",
       "      <td>0.534679</td>\n",
       "      <td>0.978457</td>\n",
       "      <td>1.786943</td>\n",
       "      <td>0.504016</td>\n",
       "      <td>0.498991</td>\n",
       "      <td>0.737804</td>\n",
       "      <td>1.6152</td>\n",
       "    </tr>\n",
       "    <tr>\n",
       "      <th>min</th>\n",
       "      <td>10.400000</td>\n",
       "      <td>4.000000</td>\n",
       "      <td>71.100000</td>\n",
       "      <td>52.000000</td>\n",
       "      <td>2.760000</td>\n",
       "      <td>1.513000</td>\n",
       "      <td>14.500000</td>\n",
       "      <td>0.000000</td>\n",
       "      <td>0.000000</td>\n",
       "      <td>3.000000</td>\n",
       "      <td>1.0000</td>\n",
       "    </tr>\n",
       "    <tr>\n",
       "      <th>25%</th>\n",
       "      <td>15.425000</td>\n",
       "      <td>4.000000</td>\n",
       "      <td>120.825000</td>\n",
       "      <td>96.500000</td>\n",
       "      <td>3.080000</td>\n",
       "      <td>2.581250</td>\n",
       "      <td>16.892500</td>\n",
       "      <td>0.000000</td>\n",
       "      <td>0.000000</td>\n",
       "      <td>3.000000</td>\n",
       "      <td>2.0000</td>\n",
       "    </tr>\n",
       "    <tr>\n",
       "      <th>50%</th>\n",
       "      <td>19.200000</td>\n",
       "      <td>6.000000</td>\n",
       "      <td>196.300000</td>\n",
       "      <td>123.000000</td>\n",
       "      <td>3.695000</td>\n",
       "      <td>3.325000</td>\n",
       "      <td>17.710000</td>\n",
       "      <td>0.000000</td>\n",
       "      <td>0.000000</td>\n",
       "      <td>4.000000</td>\n",
       "      <td>2.0000</td>\n",
       "    </tr>\n",
       "    <tr>\n",
       "      <th>75%</th>\n",
       "      <td>22.800000</td>\n",
       "      <td>8.000000</td>\n",
       "      <td>326.000000</td>\n",
       "      <td>180.000000</td>\n",
       "      <td>3.920000</td>\n",
       "      <td>3.610000</td>\n",
       "      <td>18.900000</td>\n",
       "      <td>1.000000</td>\n",
       "      <td>1.000000</td>\n",
       "      <td>4.000000</td>\n",
       "      <td>4.0000</td>\n",
       "    </tr>\n",
       "    <tr>\n",
       "      <th>max</th>\n",
       "      <td>33.900000</td>\n",
       "      <td>8.000000</td>\n",
       "      <td>472.000000</td>\n",
       "      <td>335.000000</td>\n",
       "      <td>4.930000</td>\n",
       "      <td>5.424000</td>\n",
       "      <td>22.900000</td>\n",
       "      <td>1.000000</td>\n",
       "      <td>1.000000</td>\n",
       "      <td>5.000000</td>\n",
       "      <td>8.0000</td>\n",
       "    </tr>\n",
       "  </tbody>\n",
       "</table>\n",
       "</div>"
      ],
      "text/plain": [
       "             mpg        cyl        disp          hp       drat         wt  \\\n",
       "count  32.000000  32.000000   32.000000   32.000000  32.000000  32.000000   \n",
       "mean   20.090625   6.187500  230.721875  146.687500   3.596563   3.217250   \n",
       "std     6.026948   1.785922  123.938694   68.562868   0.534679   0.978457   \n",
       "min    10.400000   4.000000   71.100000   52.000000   2.760000   1.513000   \n",
       "25%    15.425000   4.000000  120.825000   96.500000   3.080000   2.581250   \n",
       "50%    19.200000   6.000000  196.300000  123.000000   3.695000   3.325000   \n",
       "75%    22.800000   8.000000  326.000000  180.000000   3.920000   3.610000   \n",
       "max    33.900000   8.000000  472.000000  335.000000   4.930000   5.424000   \n",
       "\n",
       "            qsec         vs         am       gear     carb  \n",
       "count  32.000000  32.000000  32.000000  32.000000  32.0000  \n",
       "mean   17.848750   0.437500   0.406250   3.687500   2.8125  \n",
       "std     1.786943   0.504016   0.498991   0.737804   1.6152  \n",
       "min    14.500000   0.000000   0.000000   3.000000   1.0000  \n",
       "25%    16.892500   0.000000   0.000000   3.000000   2.0000  \n",
       "50%    17.710000   0.000000   0.000000   4.000000   2.0000  \n",
       "75%    18.900000   1.000000   1.000000   4.000000   4.0000  \n",
       "max    22.900000   1.000000   1.000000   5.000000   8.0000  "
      ]
     },
     "execution_count": 7,
     "metadata": {},
     "output_type": "execute_result"
    }
   ],
   "source": [
    "data.describe()"
   ]
  },
  {
   "cell_type": "markdown",
   "metadata": {},
   "source": [
    "#### 1. Create separate plots of the mpg (miles per gallon) as the response, against each of disp, cyl and wt. Calculate the correlation between mpg and the three variables. Based on the correlation and plots, comment on which of these predictors seems most important?"
   ]
  },
  {
   "cell_type": "code",
   "execution_count": 9,
   "metadata": {},
   "outputs": [
    {
     "data": {
      "text/plain": [
       "<Figure size 576x432 with 0 Axes>"
      ]
     },
     "execution_count": 9,
     "metadata": {},
     "output_type": "execute_result"
    },
    {
     "data": {
      "text/plain": [
       "<matplotlib.collections.PathCollection at 0x17f38624f70>"
      ]
     },
     "execution_count": 9,
     "metadata": {},
     "output_type": "execute_result"
    },
    {
     "data": {
      "text/plain": [
       "Text(0.5, 0, 'Engine Displacement (disp)')"
      ]
     },
     "execution_count": 9,
     "metadata": {},
     "output_type": "execute_result"
    },
    {
     "data": {
      "text/plain": [
       "Text(0, 0.5, 'Miles per Gallon (mpg)')"
      ]
     },
     "execution_count": 9,
     "metadata": {},
     "output_type": "execute_result"
    },
    {
     "data": {
      "text/plain": [
       "Text(0.5, 1.0, 'Mpg vs. Disp')"
      ]
     },
     "execution_count": 9,
     "metadata": {},
     "output_type": "execute_result"
    },
    {
     "data": {
      "image/png": "[encoded data removed]",
      "text/plain": [
       "<Figure size 576x432 with 1 Axes>"
      ]
     },
     "metadata": {
      "needs_background": "light"
     },
     "output_type": "display_data"
    },
    {
     "data": {
      "text/plain": [
       "<Figure size 576x432 with 0 Axes>"
      ]
     },
     "execution_count": 9,
     "metadata": {},
     "output_type": "execute_result"
    },
    {
     "data": {
      "text/plain": [
       "<matplotlib.collections.PathCollection at 0x17f389733a0>"
      ]
     },
     "execution_count": 9,
     "metadata": {},
     "output_type": "execute_result"
    },
    {
     "data": {
      "text/plain": [
       "Text(0.5, 0, 'Number of Cylinders (cyl)')"
      ]
     },
     "execution_count": 9,
     "metadata": {},
     "output_type": "execute_result"
    },
    {
     "data": {
      "text/plain": [
       "Text(0, 0.5, 'Miles per Gallon (mpg)')"
      ]
     },
     "execution_count": 9,
     "metadata": {},
     "output_type": "execute_result"
    },
    {
     "data": {
      "text/plain": [
       "Text(0.5, 1.0, 'Mpg vs. Cyl')"
      ]
     },
     "execution_count": 9,
     "metadata": {},
     "output_type": "execute_result"
    },
    {
     "data": {
      "image/png": "[encoded data removed]",
      "text/plain": [
       "<Figure size 576x432 with 1 Axes>"
      ]
     },
     "metadata": {
      "needs_background": "light"
     },
     "output_type": "display_data"
    },
    {
     "data": {
      "text/plain": [
       "<Figure size 576x432 with 0 Axes>"
      ]
     },
     "execution_count": 9,
     "metadata": {},
     "output_type": "execute_result"
    },
    {
     "data": {
      "text/plain": [
       "<matplotlib.collections.PathCollection at 0x17f389da130>"
      ]
     },
     "execution_count": 9,
     "metadata": {},
     "output_type": "execute_result"
    },
    {
     "data": {
      "text/plain": [
       "Text(0.5, 0, 'Vehicle Weight (wt)')"
      ]
     },
     "execution_count": 9,
     "metadata": {},
     "output_type": "execute_result"
    },
    {
     "data": {
      "text/plain": [
       "Text(0, 0.5, 'Miles per Gallon (mpg)')"
      ]
     },
     "execution_count": 9,
     "metadata": {},
     "output_type": "execute_result"
    },
    {
     "data": {
      "text/plain": [
       "Text(0.5, 1.0, 'Mpg vs. Wt')"
      ]
     },
     "execution_count": 9,
     "metadata": {},
     "output_type": "execute_result"
    },
    {
     "data": {
      "image/png": "[encoded data removed]",
      "text/plain": [
       "<Figure size 576x432 with 1 Axes>"
      ]
     },
     "metadata": {
      "needs_background": "light"
     },
     "output_type": "display_data"
    }
   ],
   "source": [
    "# My code Solution\n",
    "# Extract the variables\n",
    "mpg = data['mpg']\n",
    "disp = data['disp']\n",
    "cyl = data['cyl']\n",
    "wt = data['wt']\n",
    "\n",
    "# Create separate plots\n",
    "\n",
    "# Plot 1: mpg vs. disp\n",
    "plt.figure(figsize=(8, 6))\n",
    "plt.scatter(disp, mpg)\n",
    "plt.xlabel('Engine Displacement (disp)')\n",
    "plt.ylabel('Miles per Gallon (mpg)')\n",
    "plt.title('Mpg vs. Disp')\n",
    "plt.show()\n",
    "\n",
    "# Plot 2: mpg vs. cyl\n",
    "plt.figure(figsize=(8, 6))\n",
    "plt.scatter(cyl, mpg)\n",
    "plt.xlabel('Number of Cylinders (cyl)')\n",
    "plt.ylabel('Miles per Gallon (mpg)')\n",
    "plt.title('Mpg vs. Cyl')\n",
    "plt.show()\n",
    "\n",
    "# Plot 3: mpg vs. wt\n",
    "plt.figure(figsize=(8, 6))\n",
    "plt.scatter(wt, mpg)\n",
    "plt.xlabel('Vehicle Weight (wt)')\n",
    "plt.ylabel('Miles per Gallon (mpg)')\n",
    "plt.title('Mpg vs. Wt')\n",
    "plt.show()\n"
   ]
  },
  {
   "cell_type": "code",
   "execution_count": 10,
   "metadata": {},
   "outputs": [
    {
     "name": "stdout",
     "output_type": "stream",
     "text": [
      "Correlation between mpg and disp: -0.8475513792624785\n",
      "Correlation between mpg and cyl: -0.8521619594266132\n",
      "Correlation between mpg and wt: -0.8676593765172279\n"
     ]
    }
   ],
   "source": [
    "# My Solution written solution here\n",
    "\n",
    "# Calculate the correlation coefficients\n",
    "corr_disp = mpg.corr(disp)\n",
    "corr_cyl = mpg.corr(cyl)\n",
    "corr_wt = mpg.corr(wt)\n",
    "\n",
    "# Print the correlation coefficients\n",
    "print(\"Correlation between mpg and disp:\", corr_disp)\n",
    "print(\"Correlation between mpg and cyl:\", corr_cyl)\n",
    "print(\"Correlation between mpg and wt:\", corr_wt)\n"
   ]
  },
  {
   "cell_type": "markdown",
   "metadata": {},
   "source": [
    "####  2. Create a linear regression model that uses mpg as the response and the most correlated variable from (1) as predictor. Print out the summary result and answer the following:\n",
    " - what is the overall null hypothesis and what is the associated p-value? what do you conclude about H0?\n",
    " - What is the coefficient value and the 95% confidence interval on the coefficient associated with the predictor variable?\n",
    "Be quantitative and specific.\n"
   ]
  },
  {
   "cell_type": "code",
   "execution_count": 17,
   "metadata": {},
   "outputs": [
    {
     "name": "stdout",
     "output_type": "stream",
     "text": [
      "                            OLS Regression Results                            \n",
      "==============================================================================\n",
      "Dep. Variable:                    mpg   R-squared:                       0.753\n",
      "Model:                            OLS   Adj. R-squared:                  0.745\n",
      "Method:                 Least Squares   F-statistic:                     91.38\n",
      "Date:                Sun, 09 Jul 2023   Prob (F-statistic):           1.29e-10\n",
      "Time:                        06:11:11   Log-Likelihood:                -80.015\n",
      "No. Observations:                  32   AIC:                             164.0\n",
      "Df Residuals:                      30   BIC:                             167.0\n",
      "Df Model:                           1                                         \n",
      "Covariance Type:            nonrobust                                         \n",
      "==============================================================================\n",
      "                 coef    std err          t      P>|t|      [0.025      0.975]\n",
      "------------------------------------------------------------------------------\n",
      "const         37.2851      1.878     19.858      0.000      33.450      41.120\n",
      "wt            -5.3445      0.559     -9.559      0.000      -6.486      -4.203\n",
      "==============================================================================\n",
      "Omnibus:                        2.988   Durbin-Watson:                   1.252\n",
      "Prob(Omnibus):                  0.225   Jarque-Bera (JB):                2.399\n",
      "Skew:                           0.668   Prob(JB):                        0.301\n",
      "Kurtosis:                       2.877   Cond. No.                         12.7\n",
      "==============================================================================\n",
      "\n",
      "Notes:\n",
      "[1] Standard Errors assume that the covariance matrix of the errors is correctly specified.\n"
     ]
    }
   ],
   "source": [
    "#My code here\n",
    "import statsmodels.api as sm\n",
    "from sklearn.linear_model import LinearRegression\n",
    "# Create the linear regression model\n",
    "regression_model = LinearRegression()\n",
    "\n",
    "# Extract the variables\n",
    "mpg = data['mpg']\n",
    "wt = data['wt']\n",
    "\n",
    "# Add a constant column to the predictor variable\n",
    "X = sm.add_constant(wt)\n",
    "\n",
    "# Create the linear regression model\n",
    "model = sm.OLS(mpg, X)\n",
    "\n",
    "# Fit the linear regression model\n",
    "results = model.fit()\n",
    "\n",
    "# Print the summary result\n",
    "print(results.summary())"
   ]
  },
  {
   "cell_type": "raw",
   "metadata": {},
   "source": [
    "#your written solution here"
   ]
  },
  {
   "cell_type": "markdown",
   "metadata": {},
   "source": [
    "3. Again using the mtcars data, create a linear regression model that uses mpg as the response and both disp and wt score as predictors. Print out the summary result and compare with the results in (2). Based on the multivariate model:\n",
    " - Which predictor variables are significant and how did you determine this?\n",
    " - What are two assumptions one make's about residuals?\n",
    " - Create a plot of the residuals versus fitted values. Does the plot suggest that are assumptions are met? Why or why not?\n"
   ]
  },
  {
   "cell_type": "code",
   "execution_count": 18,
   "metadata": {},
   "outputs": [
    {
     "name": "stdout",
     "output_type": "stream",
     "text": [
      "                            OLS Regression Results                            \n",
      "==============================================================================\n",
      "Dep. Variable:                    mpg   R-squared:                       0.781\n",
      "Model:                            OLS   Adj. R-squared:                  0.766\n",
      "Method:                 Least Squares   F-statistic:                     51.69\n",
      "Date:                Sun, 09 Jul 2023   Prob (F-statistic):           2.74e-10\n",
      "Time:                        06:15:51   Log-Likelihood:                -78.084\n",
      "No. Observations:                  32   AIC:                             162.2\n",
      "Df Residuals:                      29   BIC:                             166.6\n",
      "Df Model:                           2                                         \n",
      "Covariance Type:            nonrobust                                         \n",
      "==============================================================================\n",
      "                 coef    std err          t      P>|t|      [0.025      0.975]\n",
      "------------------------------------------------------------------------------\n",
      "const         34.9606      2.165     16.151      0.000      30.534      39.388\n",
      "disp          -0.0177      0.009     -1.929      0.064      -0.037       0.001\n",
      "wt            -3.3508      1.164     -2.878      0.007      -5.732      -0.970\n",
      "==============================================================================\n",
      "Omnibus:                        4.079   Durbin-Watson:                   1.277\n",
      "Prob(Omnibus):                  0.130   Jarque-Bera (JB):                3.665\n",
      "Skew:                           0.812   Prob(JB):                        0.160\n",
      "Kurtosis:                       2.666   Cond. No.                     1.21e+03\n",
      "==============================================================================\n",
      "\n",
      "Notes:\n",
      "[1] Standard Errors assume that the covariance matrix of the errors is correctly specified.\n",
      "[2] The condition number is large, 1.21e+03. This might indicate that there are\n",
      "strong multicollinearity or other numerical problems.\n"
     ]
    }
   ],
   "source": [
    "#My code here\n",
    "# Extract the variables\n",
    "mpg = data['mpg']\n",
    "disp = data['disp']\n",
    "wt = data['wt']\n",
    "\n",
    "# Add a constant column to the predictors\n",
    "X = sm.add_constant(pd.concat([disp, wt], axis=1))\n",
    "\n",
    "# Create the linear regression model\n",
    "model = sm.OLS(mpg, X)\n",
    "\n",
    "# Fit the linear regression model\n",
    "results = model.fit()\n",
    "\n",
    "# Print the summary result\n",
    "print(results.summary())"
   ]
  },
  {
   "cell_type": "markdown",
   "metadata": {},
   "source": [
    "#my written solution here\n",
    "\n",
    "Which predictor variables are significant and how did you determine this?\n",
    "\n",
    "To determine the significance of predictor variables, we can examine the p-values associated with each predictor variable.\n",
    "In the summary result, look for the \"P>|t|\" column. The p-values represent the significance of each predictor variable.\n",
    "If the p-value is less than a chosen significance level (e.g., 0.05), we consider the variable to be significant.\n",
    "In the printed summary result, locate the rows corresponding to the predictor variables (disp and wt). If the p-values for these variables are less than 0.05, we can conclude that they are significant predictors of mpg.\n",
    "\n",
    "What are two assumptions one makes about residuals?\n",
    "\n",
    "Two assumptions about residuals in linear regression are: a. The residuals are normally distributed: This assumption implies that the residuals should follow a normal distribution with a mean of zero. b. The residuals have constant variance (homoscedasticity): This assumption suggests that the variability of the residuals should be consistent across all levels of the predictors.\n",
    "\n",
    "Create a plot of the residuals versus fitted values. Does the plot suggest that assumptions are met? Why or why not?\n",
    "\n",
    "To create a plot of residuals versus fitted values, we can use the plot_regress_exog() function from the statsmodels.graphics.regressionplots module.\n"
   ]
  },
  {
   "cell_type": "code",
   "execution_count": 19,
   "metadata": {},
   "outputs": [
    {
     "data": {
      "image/png": "[encoded data removed]",
      "text/plain": [
       "<Figure size 864x576 with 4 Axes>"
      ]
     },
     "execution_count": 19,
     "metadata": {},
     "output_type": "execute_result"
    },
    {
     "data": {
      "image/png": "[encoded data removed]",
      "text/plain": [
       "<Figure size 864x576 with 4 Axes>"
      ]
     },
     "metadata": {
      "needs_background": "light"
     },
     "output_type": "display_data"
    }
   ],
   "source": [
    "# Here's the code to create the plot:\n",
    "from statsmodels.graphics.regressionplots import plot_regress_exog\n",
    "\n",
    "# Create the plot\n",
    "fig = plt.figure(figsize=(12, 8))\n",
    "plot_regress_exog(results, 1, fig=fig)\n",
    "\n",
    "# Show the plot\n",
    "plt.show()"
   ]
  },
  {
   "cell_type": "markdown",
   "metadata": {},
   "source": [
    "#### 4. Now use the prediction model from the problem (3) above, predict the average mpg for a car with a weight of 3500 lbs and a displacement of 200 cu in.?"
   ]
  },
  {
   "cell_type": "code",
   "execution_count": 20,
   "metadata": {},
   "outputs": [
    {
     "name": "stdout",
     "output_type": "stream",
     "text": [
      "Predicted average mpg for the car: -697.24\n"
     ]
    }
   ],
   "source": [
    "#my code here\n",
    "# Define the predictor values for the new car\n",
    "new_car_wt = 3500\n",
    "new_car_disp = 200\n",
    "\n",
    "# Create a DataFrame with the predictor values\n",
    "new_car_data = pd.DataFrame({'const': 1, 'wt': new_car_wt, 'disp': new_car_disp}, index=[0])\n",
    "\n",
    "# Predict the average mpg for the new car\n",
    "predicted_mpg = results.predict(new_car_data)\n",
    "\n",
    "# Print the predicted mpg\n",
    "print(\"Predicted average mpg for the car: {:.2f}\".format(predicted_mpg[0]))\n"
   ]
  },
  {
   "cell_type": "markdown",
   "metadata": {},
   "source": [
    "#### 5. Consider cyl as an additional predictor for the above model in problem (3):\n",
    "\n",
    " - Create a plot of the number of cylinders, cyl as a predictor against mpg. Is cyl an important predictor?\n",
    " - Create a new model that uses cyl as an additional predictor variable (along with disp and wt) and print out summary result.\n",
    " - What does the cyl coefficient represent? Is cyl a continuous or categorical predictor? \n",
    " - Does including cyl improve model fit? How would you know?"
   ]
  },
  {
   "cell_type": "code",
   "execution_count": 21,
   "metadata": {},
   "outputs": [
    {
     "data": {
      "text/plain": [
       "<Figure size 576x432 with 0 Axes>"
      ]
     },
     "execution_count": 21,
     "metadata": {},
     "output_type": "execute_result"
    },
    {
     "data": {
      "text/plain": [
       "<matplotlib.collections.PathCollection at 0x17f3a186730>"
      ]
     },
     "execution_count": 21,
     "metadata": {},
     "output_type": "execute_result"
    },
    {
     "data": {
      "text/plain": [
       "Text(0.5, 0, 'Number of Cylinders (cyl)')"
      ]
     },
     "execution_count": 21,
     "metadata": {},
     "output_type": "execute_result"
    },
    {
     "data": {
      "text/plain": [
       "Text(0, 0.5, 'Miles per Gallon (mpg)')"
      ]
     },
     "execution_count": 21,
     "metadata": {},
     "output_type": "execute_result"
    },
    {
     "data": {
      "text/plain": [
       "Text(0.5, 1.0, 'Mpg vs. Cyl')"
      ]
     },
     "execution_count": 21,
     "metadata": {},
     "output_type": "execute_result"
    },
    {
     "data": {
      "image/png": "[encoded data removed]",
      "text/plain": [
       "<Figure size 576x432 with 1 Axes>"
      ]
     },
     "metadata": {
      "needs_background": "light"
     },
     "output_type": "display_data"
    },
    {
     "name": "stdout",
     "output_type": "stream",
     "text": [
      "                            OLS Regression Results                            \n",
      "==============================================================================\n",
      "Dep. Variable:                    mpg   R-squared:                       0.833\n",
      "Model:                            OLS   Adj. R-squared:                  0.815\n",
      "Method:                 Least Squares   F-statistic:                     46.42\n",
      "Date:                Sun, 09 Jul 2023   Prob (F-statistic):           5.40e-11\n",
      "Time:                        06:26:38   Log-Likelihood:                -73.779\n",
      "No. Observations:                  32   AIC:                             155.6\n",
      "Df Residuals:                      28   BIC:                             161.4\n",
      "Df Model:                           3                                         \n",
      "Covariance Type:            nonrobust                                         \n",
      "==============================================================================\n",
      "                 coef    std err          t      P>|t|      [0.025      0.975]\n",
      "------------------------------------------------------------------------------\n",
      "const         41.1077      2.842     14.462      0.000      35.285      46.930\n",
      "disp           0.0075      0.012      0.631      0.533      -0.017       0.032\n",
      "wt            -3.6357      1.040     -3.495      0.002      -5.766      -1.505\n",
      "cyl           -1.7849      0.607     -2.940      0.007      -3.029      -0.541\n",
      "==============================================================================\n",
      "Omnibus:                        4.425   Durbin-Watson:                   1.707\n",
      "Prob(Omnibus):                  0.109   Jarque-Bera (JB):                3.145\n",
      "Skew:                           0.746   Prob(JB):                        0.208\n",
      "Kurtosis:                       3.361   Cond. No.                     1.68e+03\n",
      "==============================================================================\n",
      "\n",
      "Notes:\n",
      "[1] Standard Errors assume that the covariance matrix of the errors is correctly specified.\n",
      "[2] The condition number is large, 1.68e+03. This might indicate that there are\n",
      "strong multicollinearity or other numerical problems.\n"
     ]
    }
   ],
   "source": [
    "#My code here\n",
    "\n",
    "import matplotlib.pyplot as plt\n",
    "\n",
    "# Create a scatter plot of cyl against mpg\n",
    "plt.figure(figsize=(8, 6))\n",
    "plt.scatter(cyl, mpg)\n",
    "plt.xlabel('Number of Cylinders (cyl)')\n",
    "plt.ylabel('Miles per Gallon (mpg)')\n",
    "plt.title('Mpg vs. Cyl')\n",
    "plt.show()\n",
    "\n",
    "# Add a constant column and create the predictors DataFrame\n",
    "X = sm.add_constant(pd.concat([disp, wt, cyl], axis=1))\n",
    "\n",
    "# Create the linear regression model\n",
    "model = sm.OLS(mpg, X)\n",
    "\n",
    "# Fit the linear regression model\n",
    "results = model.fit()\n",
    "\n",
    "# Print the summary result\n",
    "print(results.summary())\n",
    "\n"
   ]
  },
  {
   "cell_type": "markdown",
   "metadata": {},
   "source": [
    "#My written solution here\n",
    "What does the cyl coefficient represent? Is cyl a continuous or categorical predictor?\n",
    "\n",
    "The cyl coefficient represents the estimated effect of the number of cylinders (cyl) on the response variable (mpg) in the linear regression model.\n",
    "Since cyl is a variable representing the number of cylinders, it is a categorical predictor. In this dataset, the variable cyl takes on discrete values representing the number of cylinders in a car (e.g., 4, 6, or 8).\n",
    "\n",
    "\n",
    "Does including cyl improve model fit? How would you know?\n",
    "\n",
    "To assess whether including cyl improves the model fit, we can compare the model fit statistics, such as the adjusted R-squared value, between the models with and without cyl.\n",
    "The adjusted R-squared value accounts for the number of predictors and the sample size, providing a measure of the proportion of the variation in the response variable explained by the predictors.\n"
   ]
  }
 ],
 "metadata": {
  "kernelspec": {
   "display_name": "Python 3",
   "language": "python",
   "name": "python3"
  },
  "language_info": {
   "codemirror_mode": {
    "name": "ipython",
    "version": 3
   },
   "file_extension": ".py",
   "mimetype": "text/x-python",
   "name": "python",
   "nbconvert_exporter": "python",
   "pygments_lexer": "ipython3",
   "version": "3.8.5"
  }
 },
 "nbformat": 4,
 "nbformat_minor": 1
}
